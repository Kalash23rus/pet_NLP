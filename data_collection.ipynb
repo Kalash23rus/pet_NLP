{
 "cells": [
  {
   "cell_type": "code",
   "execution_count": 1,
   "metadata": {},
   "outputs": [],
   "source": [
    "import pandas as pd"
   ]
  },
  {
   "cell_type": "code",
   "execution_count": 105,
   "metadata": {},
   "outputs": [],
   "source": [
    "from Bio import Entrez\n",
    "from Bio import Medline\n",
    "from Bio.Entrez import efetch, read\n",
    "def search(query):\n",
    "    Entrez.email = 'your.email@example.com'\n",
    "    handle = Entrez.esearch(db='pubmed', \n",
    "                            sort='relevance', \n",
    "                            retmax='2',\n",
    "                            retmode='xml', \n",
    "                            term=query)\n",
    "    results = Entrez.read(handle)\n",
    "    return results\n",
    "\n",
    "def fetch_details(id_list):\n",
    "    ids = ','.join(id_list)\n",
    "    Entrez.email = 'your.email@example.com'\n",
    "    handle = Entrez.efetch(db='pubmed',\n",
    "                            retmode='xml',\n",
    "                            id=ids)\n",
    "    results = Entrez.read(handle)\n",
    "    return results\n",
    "\n",
    "def fetch_abstract(pmid):\n",
    "    handle = efetch(db='pubmed', id=pmid, retmode='text')\n",
    "    xml_data = read(handle)[0]\n",
    "    try:\n",
    "        article = xml_data['MedlineCitation']['Article']\n",
    "        abstract = article['Abstract']['AbstractText'][0]\n",
    "        return abstract\n",
    "    except IndexError:\n",
    "        return None"
   ]
  },
  {
   "cell_type": "code",
   "execution_count": 106,
   "metadata": {},
   "outputs": [],
   "source": [
    "# results = search('cancer')\n",
    "id_list = fetch_details(['31622130', '32682319'])"
   ]
  },
  {
   "cell_type": "code",
   "execution_count": 107,
   "metadata": {},
   "outputs": [
    {
     "data": {
      "text/plain": [
       "{'PubmedBookArticle': [], 'PubmedArticle': [{'MedlineCitation': DictElement({'OtherAbstract': [], 'CitationSubset': ['IM'], 'GeneralNote': [], 'OtherID': [], 'KeywordList': [], 'SpaceFlightMission': [], 'PMID': StringElement('31622130', attributes={'Version': '1'}), 'DateCompleted': {'Year': '2020', 'Month': '06', 'Day': '22'}, 'DateRevised': {'Year': '2020', 'Month': '07', 'Day': '14'}, 'Article': DictElement({'ELocationID': [StringElement('10.1200/JCO.19.00129', attributes={'EIdType': 'doi', 'ValidYN': 'Y'})], 'Language': ['eng'], 'ArticleDate': [DictElement({'Year': '2019', 'Month': '10', 'Day': '17'}, attributes={'DateType': 'Electronic'})], 'Journal': {'ISSN': StringElement('1527-7755', attributes={'IssnType': 'Electronic'}), 'JournalIssue': DictElement({'Volume': '37', 'Issue': '34', 'PubDate': {'Year': '2019', 'Month': '12', 'Day': '01'}}, attributes={'CitedMedium': 'Internet'}), 'Title': 'Journal of clinical oncology : official journal of the American Society of Clinical Oncology', 'ISOAbbreviation': 'J Clin Oncol'}, 'ArticleTitle': 'Chemotherapy and Risk of Subsequent Malignant Neoplasms in the Childhood Cancer Survivor Study Cohort.', 'Pagination': {'MedlinePgn': '3310-3319'}, 'Abstract': {'AbstractText': [StringElement('Therapeutic radiation in childhood cancer has decreased over time with a concomitant increase in chemotherapy. Limited data exist on chemotherapy-associated subsequent malignant neoplasm (SMN) risk.', attributes={'Label': 'PURPOSE'}), StringElement('SMNs occurring > 5 years from diagnosis, excluding nonmelanoma skin cancers, were evaluated in survivors diagnosed when they were < 21 years old, from 1970 to 1999 in the Childhood Cancer Survivor Study (median age at diagnosis, 7.0 years; median age at last follow-up, 31.8 years). Thirty-year SMN cumulative incidence and standardized incidence ratios (SIRs) were estimated by treatment: chemotherapy-only (n = 7,448), chemotherapy plus radiation (n = 10,485), radiation only (n = 2,063), or neither (n = 2,158). Multivariable models were used to assess chemotherapy-associated SMN risk, including dose-response relationships.', attributes={'Label': 'PATIENTS AND METHODS'}), StringElement('Of 1,498 SMNs among 1,344 survivors, 229 occurred among 206 survivors treated with chemotherapy only. Thirty-year SMN cumulative incidence was 3.9%, 9.0%, 10.8%, and 3.4% for the chemotherapy-only, chemotherapy plus radiation, radiation-only, or neither-treatment groups, respectively. Chemotherapy-only survivors had a 2.8-fold increased SMN risk compared with the general population (95% CI, 2.5 to 3.2), with SIRs increased for subsequent leukemia/lymphoma (1.9; 95% CI, 1.3 to 2.7), breast cancer (4.6; 95% CI, 3.5 to 6.0), soft-tissue sarcoma (3.4; 95% CI, 1.9 to 5.7), thyroid cancer (3.8; 95% CI, 2.7 to 5.1), and melanoma (2.3; 95% CI, 1.5 to 3.5). SMN rate was associated with > 750 mg/m<sup>2</sup> platinum (relative rate [RR] 2.7; 95% CI, 1.1 to 6.5), and a dose response was observed between alkylating agents and SMN rate (RR, 1.2/5,000 mg/m<sup>2</sup>; 95% CI, 1.1 to 1.3). A linear dose response was also demonstrated between anthracyclines and breast cancer rate (RR, 1.3/100 mg/m<sup>2</sup>; 95% CI, 1.2 to 1.6).', attributes={'Label': 'RESULTS'}), StringElement('Childhood cancer survivors treated with chemotherapy only, particularly higher cumulative doses of platinum and alkylating agents, face increased SMN risk. Linear dose responses were seen between alkylating agents and SMN rates and between anthracyclines and breast cancer rates. Limiting cumulative doses and consideration of alternate chemotherapies may reduce SMN risk.', attributes={'Label': 'CONCLUSION'})]}, 'AuthorList': ListElement([DictElement({'Identifier': [], 'AffiliationInfo': [{'Identifier': [], 'Affiliation': 'University of Minnesota Medical School, Minneapolis, MN.'}], 'LastName': 'Turcotte', 'ForeName': 'Lucie M', 'Initials': 'LM'}, attributes={'ValidYN': 'Y'}), DictElement({'Identifier': [], 'AffiliationInfo': [{'Identifier': [], 'Affiliation': 'University of Alberta School of Public Health, Edmonton, Alberta, Canada.'}], 'LastName': 'Liu', 'ForeName': 'Qi', 'Initials': 'Q'}, attributes={'ValidYN': 'Y'}), DictElement({'Identifier': [], 'AffiliationInfo': [{'Identifier': [], 'Affiliation': \"St Jude Children's Research Hospital, Memphis, TN.\"}], 'LastName': 'Yasui', 'ForeName': 'Yutaka', 'Initials': 'Y'}, attributes={'ValidYN': 'Y'}), DictElement({'Identifier': [], 'AffiliationInfo': [{'Identifier': [], 'Affiliation': 'University of Chicago, Chicago, IL.'}], 'LastName': 'Henderson', 'ForeName': 'Tara O', 'Initials': 'TO'}, attributes={'ValidYN': 'Y'}), DictElement({'Identifier': [], 'AffiliationInfo': [{'Identifier': [], 'Affiliation': \"St Jude Children's Research Hospital, Memphis, TN.\"}], 'LastName': 'Gibson', 'ForeName': 'Todd M', 'Initials': 'TM'}, attributes={'ValidYN': 'Y'}), DictElement({'Identifier': [], 'AffiliationInfo': [{'Identifier': [], 'Affiliation': 'Fred Hutchinson Cancer Research Center, Seattle, WA.'}], 'LastName': 'Leisenring', 'ForeName': 'Wendy', 'Initials': 'W'}, attributes={'ValidYN': 'Y'}), DictElement({'Identifier': [], 'AffiliationInfo': [{'Identifier': [], 'Affiliation': 'Ohio State University, Columbus, OH.'}], 'LastName': 'Arnold', 'ForeName': 'Michael A', 'Initials': 'MA'}, attributes={'ValidYN': 'Y'}), DictElement({'Identifier': [], 'AffiliationInfo': [{'Identifier': [], 'Affiliation': 'University of Texas MD Anderson Cancer Center, Houston, TX.'}], 'LastName': 'Howell', 'ForeName': 'Rebecca M', 'Initials': 'RM'}, attributes={'ValidYN': 'Y'}), DictElement({'Identifier': [], 'AffiliationInfo': [{'Identifier': [], 'Affiliation': \"St Jude Children's Research Hospital, Memphis, TN.\"}], 'LastName': 'Green', 'ForeName': 'Daniel M', 'Initials': 'DM'}, attributes={'ValidYN': 'Y'}), DictElement({'Identifier': [], 'AffiliationInfo': [{'Identifier': [], 'Affiliation': \"St Jude Children's Research Hospital, Memphis, TN.\"}], 'LastName': 'Armstrong', 'ForeName': 'Gregory T', 'Initials': 'GT'}, attributes={'ValidYN': 'Y'}), DictElement({'Identifier': [], 'AffiliationInfo': [{'Identifier': [], 'Affiliation': \"St Jude Children's Research Hospital, Memphis, TN.\"}], 'LastName': 'Robison', 'ForeName': 'Leslie L', 'Initials': 'LL'}, attributes={'ValidYN': 'Y'}), DictElement({'Identifier': [], 'AffiliationInfo': [{'Identifier': [], 'Affiliation': 'University of Minnesota Medical School, Minneapolis, MN.'}], 'LastName': 'Neglia', 'ForeName': 'Joseph P', 'Initials': 'JP'}, attributes={'ValidYN': 'Y'})], attributes={'CompleteYN': 'Y'}), 'GrantList': ListElement([{'GrantID': 'K08 CA234232', 'Acronym': 'CA', 'Agency': 'NCI NIH HHS', 'Country': 'United States'}, {'GrantID': 'P30 CA021765', 'Acronym': 'CA', 'Agency': 'NCI NIH HHS', 'Country': 'United States'}, {'GrantID': 'U24 CA055727', 'Acronym': 'CA', 'Agency': 'NCI NIH HHS', 'Country': 'United States'}], attributes={'CompleteYN': 'Y'}), 'PublicationTypeList': [StringElement('Comparative Study', attributes={'UI': 'D003160'}), StringElement('Journal Article', attributes={'UI': 'D016428'}), StringElement('Multicenter Study', attributes={'UI': 'D016448'}), StringElement('Research Support, N.I.H., Extramural', attributes={'UI': 'D052061'}), StringElement(\"Research Support, Non-U.S. Gov't\", attributes={'UI': 'D013485'})]}, attributes={'PubModel': 'Print-Electronic'}), 'MedlineJournalInfo': {'Country': 'United States', 'MedlineTA': 'J Clin Oncol', 'NlmUniqueID': '8309333', 'ISSNLinking': '0732-183X'}, 'ChemicalList': [{'RegistryNumber': '0', 'NameOfSubstance': StringElement('Antineoplastic Agents', attributes={'UI': 'D000970'})}], 'MeshHeadingList': [{'QualifierName': [], 'DescriptorName': StringElement('Adolescent', attributes={'UI': 'D000293', 'MajorTopicYN': 'N'})}, {'QualifierName': [], 'DescriptorName': StringElement('Adult', attributes={'UI': 'D000328', 'MajorTopicYN': 'N'})}, {'QualifierName': [], 'DescriptorName': StringElement('Age Factors', attributes={'UI': 'D000367', 'MajorTopicYN': 'N'})}, {'QualifierName': [], 'DescriptorName': StringElement('Aged', attributes={'UI': 'D000368', 'MajorTopicYN': 'N'})}, {'QualifierName': [StringElement('adverse effects', attributes={'UI': 'Q000009', 'MajorTopicYN': 'Y'})], 'DescriptorName': StringElement('Antineoplastic Agents', attributes={'UI': 'D000970', 'MajorTopicYN': 'N'})}, {'QualifierName': [], 'DescriptorName': StringElement('Cancer Survivors', attributes={'UI': 'D000073116', 'MajorTopicYN': 'Y'})}, {'QualifierName': [StringElement('adverse effects', attributes={'UI': 'Q000009', 'MajorTopicYN': 'N'})], 'DescriptorName': StringElement('Chemoradiotherapy', attributes={'UI': 'D059248', 'MajorTopicYN': 'N'})}, {'QualifierName': [], 'DescriptorName': StringElement('Child', attributes={'UI': 'D002648', 'MajorTopicYN': 'N'})}, {'QualifierName': [], 'DescriptorName': StringElement('Child, Preschool', attributes={'UI': 'D002675', 'MajorTopicYN': 'N'})}, {'QualifierName': [], 'DescriptorName': StringElement('Dose-Response Relationship, Drug', attributes={'UI': 'D004305', 'MajorTopicYN': 'N'})}, {'QualifierName': [], 'DescriptorName': StringElement('Humans', attributes={'UI': 'D006801', 'MajorTopicYN': 'N'})}, {'QualifierName': [], 'DescriptorName': StringElement('Incidence', attributes={'UI': 'D015994', 'MajorTopicYN': 'N'})}, {'QualifierName': [], 'DescriptorName': StringElement('Infant', attributes={'UI': 'D007223', 'MajorTopicYN': 'N'})}, {'QualifierName': [], 'DescriptorName': StringElement('Infant, Newborn', attributes={'UI': 'D007231', 'MajorTopicYN': 'N'})}, {'QualifierName': [], 'DescriptorName': StringElement('Middle Aged', attributes={'UI': 'D008875', 'MajorTopicYN': 'N'})}, {'QualifierName': [StringElement('diagnosis', attributes={'UI': 'Q000175', 'MajorTopicYN': 'N'}), StringElement('drug therapy', attributes={'UI': 'Q000188', 'MajorTopicYN': 'Y'}), StringElement('epidemiology', attributes={'UI': 'Q000453', 'MajorTopicYN': 'N'})], 'DescriptorName': StringElement('Neoplasms', attributes={'UI': 'D009369', 'MajorTopicYN': 'N'})}, {'QualifierName': [StringElement('diagnosis', attributes={'UI': 'Q000175', 'MajorTopicYN': 'N'}), StringElement('epidemiology', attributes={'UI': 'Q000453', 'MajorTopicYN': 'N'})], 'DescriptorName': StringElement('Neoplasms, Radiation-Induced', attributes={'UI': 'D009381', 'MajorTopicYN': 'N'})}, {'QualifierName': [StringElement('chemically induced', attributes={'UI': 'Q000139', 'MajorTopicYN': 'Y'}), StringElement('diagnosis', attributes={'UI': 'Q000175', 'MajorTopicYN': 'N'}), StringElement('epidemiology', attributes={'UI': 'Q000453', 'MajorTopicYN': 'N'})], 'DescriptorName': StringElement('Neoplasms, Second Primary', attributes={'UI': 'D016609', 'MajorTopicYN': 'N'})}, {'QualifierName': [StringElement('epidemiology', attributes={'UI': 'Q000453', 'MajorTopicYN': 'N'})], 'DescriptorName': StringElement('North America', attributes={'UI': 'D009656', 'MajorTopicYN': 'N', 'Type': 'Geographic'})}, {'QualifierName': [StringElement('adverse effects', attributes={'UI': 'Q000009', 'MajorTopicYN': 'N'})], 'DescriptorName': StringElement('Radiotherapy', attributes={'UI': 'D011878', 'MajorTopicYN': 'N'})}, {'QualifierName': [], 'DescriptorName': StringElement('Risk Assessment', attributes={'UI': 'D018570', 'MajorTopicYN': 'N'})}, {'QualifierName': [], 'DescriptorName': StringElement('Risk Factors', attributes={'UI': 'D012307', 'MajorTopicYN': 'N'})}, {'QualifierName': [], 'DescriptorName': StringElement('Time Factors', attributes={'UI': 'D013997', 'MajorTopicYN': 'N'})}, {'QualifierName': [], 'DescriptorName': StringElement('Young Adult', attributes={'UI': 'D055815', 'MajorTopicYN': 'N'})}]}, attributes={'Status': 'MEDLINE', 'Owner': 'NLM'}), 'PubmedData': {'ReferenceList': [{'Reference': [{'Citation': 'J Clin Oncol. 2017 Jul 10;35(20):2288-2298', 'ArticleIdList': [StringElement('28530852', attributes={'IdType': 'pubmed'})]}, {'Citation': 'J Natl Cancer Inst. 2013 Apr 3;105(7):504-8', 'ArticleIdList': [StringElement('23515901', attributes={'IdType': 'pubmed'})]}, {'Citation': 'Pediatr Blood Cancer. 2014 Jan;61(1):53-67', 'ArticleIdList': [StringElement('23940101', attributes={'IdType': 'pubmed'})]}, {'Citation': 'J Clin Oncol. 2006 Jan 20;24(3):476-83', 'ArticleIdList': [StringElement('16421424', attributes={'IdType': 'pubmed'})]}, {'Citation': 'J Natl Cancer Inst. 2007 Feb 21;99(4):300-8', 'ArticleIdList': [StringElement('17312307', attributes={'IdType': 'pubmed'})]}, {'Citation': 'J Clin Oncol. 2012 Jul 10;30(20):2552-8', 'ArticleIdList': [StringElement('22665546', attributes={'IdType': 'pubmed'})]}, {'Citation': 'N Engl J Med. 2016 Mar 3;374(9):833-42', 'ArticleIdList': [StringElement('26761625', attributes={'IdType': 'pubmed'})]}, {'Citation': 'Pediatr Blood Cancer. 2012 Mar;58(3):334-43', 'ArticleIdList': [StringElement('22038641', attributes={'IdType': 'pubmed'})]}, {'Citation': 'J Clin Oncol. 2016 Mar 20;34(9):910-8', 'ArticleIdList': [StringElement('26700127', attributes={'IdType': 'pubmed'})]}, {'Citation': 'Curr Opin Oncol. 2018 Jan;30(1):23-29', 'ArticleIdList': [StringElement('29076966', attributes={'IdType': 'pubmed'})]}, {'Citation': 'Lancet. 2007 Oct 20;370(9596):1453-7', 'ArticleIdList': [StringElement('18064739', attributes={'IdType': 'pubmed'})]}, {'Citation': 'Br J Haematol. 2017 Feb;176(4):539-552', 'ArticleIdList': [StringElement('27984644', attributes={'IdType': 'pubmed'})]}, {'Citation': 'BMJ. 2009 Dec 08;339:b4606', 'ArticleIdList': [StringElement('19996459', attributes={'IdType': 'pubmed'})]}, {'Citation': 'J Clin Oncol. 2013 Oct 20;31(30):3807-14', 'ArticleIdList': [StringElement('24043737', attributes={'IdType': 'pubmed'})]}, {'Citation': 'Cancer Treat Rev. 1985 Sep;12 Suppl A:59-65', 'ArticleIdList': [StringElement('3910223', attributes={'IdType': 'pubmed'})]}, {'Citation': 'J Clin Oncol. 2009 May 10;27(14):2308-18', 'ArticleIdList': [StringElement('19364948', attributes={'IdType': 'pubmed'})]}, {'Citation': 'Pediatr Blood Cancer. 2013 Jul;60(7):1083-94', 'ArticleIdList': [StringElement('23418018', attributes={'IdType': 'pubmed'})]}, {'Citation': 'J Clin Oncol. 2018 Jul 10;36(20):2078-2087', 'ArticleIdList': [StringElement('29847298', attributes={'IdType': 'pubmed'})]}, {'Citation': 'JAMA. 2011 Jun 8;305(22):2311-9', 'ArticleIdList': [StringElement('21642683', attributes={'IdType': 'pubmed'})]}, {'Citation': 'Int J Radiat Oncol Biol Phys. 2012 Sep 1;84(1):224-30', 'ArticleIdList': [StringElement('22795729', attributes={'IdType': 'pubmed'})]}, {'Citation': 'BMJ. 1992 Apr 11;304(6832):951-8', 'ArticleIdList': [StringElement('1581717', attributes={'IdType': 'pubmed'})]}, {'Citation': 'J Natl Cancer Inst. 2010 Jul 21;102(14):1083-95', 'ArticleIdList': [StringElement('20634481', attributes={'IdType': 'pubmed'})]}, {'Citation': 'J Clin Oncol. 2009 May 10;27(14):2319-27', 'ArticleIdList': [StringElement('19364957', attributes={'IdType': 'pubmed'})]}, {'Citation': 'N Engl J Med. 1991 Dec 12;325(24):1682-7', 'ArticleIdList': [StringElement('1944468', attributes={'IdType': 'pubmed'})]}, {'Citation': 'N Engl J Med. 1999 Feb 4;340(5):351-7', 'ArticleIdList': [StringElement('9929525', attributes={'IdType': 'pubmed'})]}, {'Citation': 'JAMA. 2017 Feb 28;317(8):814-824', 'ArticleIdList': [StringElement('28245323', attributes={'IdType': 'pubmed'})]}, {'Citation': 'Ann Intern Med. 2012 Jun 5;156(11):757-66, W-260', 'ArticleIdList': [StringElement('22665813', attributes={'IdType': 'pubmed'})]}, {'Citation': 'Am J Epidemiol. 2015 Apr 1;181(7):532-40', 'ArticleIdList': [StringElement('25693770', attributes={'IdType': 'pubmed'})]}], 'ReferenceList': []}], 'History': [DictElement({'Year': '2019', 'Month': '10', 'Day': '18', 'Hour': '6', 'Minute': '0'}, attributes={'PubStatus': 'pubmed'}), DictElement({'Year': '2020', 'Month': '6', 'Day': '23', 'Hour': '6', 'Minute': '0'}, attributes={'PubStatus': 'medline'}), DictElement({'Year': '2019', 'Month': '10', 'Day': '18', 'Hour': '6', 'Minute': '0'}, attributes={'PubStatus': 'entrez'})], 'PublicationStatus': 'ppublish', 'ArticleIdList': [StringElement('31622130', attributes={'IdType': 'pubmed'}), StringElement('10.1200/JCO.19.00129', attributes={'IdType': 'doi'}), StringElement('PMC7001784', attributes={'IdType': 'pmc'})]}}, {'MedlineCitation': DictElement({'OtherAbstract': [], 'CitationSubset': ['IM'], 'GeneralNote': [], 'OtherID': [], 'KeywordList': [ListElement([StringElement('Genetic syndromes with increased risk of cancer', attributes={'MajorTopicYN': 'Y'}), StringElement('Long-term childhood cancer survivors', attributes={'MajorTopicYN': 'Y'}), StringElement('Subsequent benign neoplasm', attributes={'MajorTopicYN': 'Y'}), StringElement('Subsequent malignant neoplasm', attributes={'MajorTopicYN': 'Y'}), StringElement('Subsequent non-melanoma skin cancer', attributes={'MajorTopicYN': 'Y'})], attributes={'Owner': 'NOTNLM'})], 'SpaceFlightMission': [], 'PMID': StringElement('32682319', attributes={'Version': '1'}), 'DateCompleted': {'Year': '2021', 'Month': '01', 'Day': '25'}, 'DateRevised': {'Year': '2021', 'Month': '01', 'Day': '25'}, 'Article': DictElement({'ELocationID': [StringElement('S1877-7821(20)30113-2', attributes={'EIdType': 'pii', 'ValidYN': 'Y'}), StringElement('10.1016/j.canep.2020.101779', attributes={'EIdType': 'doi', 'ValidYN': 'Y'})], 'Language': ['eng'], 'ArticleDate': [DictElement({'Year': '2020', 'Month': '07', 'Day': '15'}, attributes={'DateType': 'Electronic'})], 'Journal': {'ISSN': StringElement('1877-783X', attributes={'IssnType': 'Electronic'}), 'JournalIssue': DictElement({'Volume': '68', 'PubDate': {'Year': '2020', 'Month': '10'}}, attributes={'CitedMedium': 'Internet'}), 'Title': 'Cancer epidemiology', 'ISOAbbreviation': 'Cancer Epidemiol'}, 'ArticleTitle': 'Subsequent neoplasms in childhood cancer survivors.', 'Pagination': {'MedlinePgn': '101779'}, 'Abstract': {'AbstractText': [StringElement('The aim of the study was to characterize subsequent neoplasm (SN) (malignant (SMN), benign (BSNs), and non-melanoma skin cancer (NMSC)) treated previously for a childhood solid malignant tumor at the Department of Pediatric Hematology and Oncology, Motol University Hospital, Prague.', attributes={'Label': 'OBJECTIVES'}), StringElement('We evaluated a cohort of 4059 childhood cancer survivors treated between 1975 and 2018.', attributes={'Label': 'METHOD'}), StringElement('From 4059 survivors, 170 (4.3 %) developed at least one SMN - 193 SMNs in 170 survivors, 21 of them (0.5 % of all survivors) had two or more SMNs and 34 of them (0.8 %) had one SMN and one or more BSNs. Mortality for an SMN was 38.2 % i.e. 1.6 % of all survivors. The most frequent SMNs were thyroid carcinoma (37, 19.2 %), tumors of the central nervous system (25, 13.0 %), soft tissue sarcoma (23, 11.9 %), breast carcinoma (19, 9.8 %), and leukemia (11, 5.7 %). Genetic syndromes were present in 25 patients with SMNs (14.7 %) and in 16 patients with only BSNs (13.4 %). SMNs usually developed in second decade or later after finishing of therapy. We observed some not well known risk factors of SNs e.g. spinal irradiation or<sup>131-</sup>I metaiodobenzylguanidine radiotherapy in 2 cases of secondary thyroid cancer, cyclophosphamide therapy in all 8 cases of secondary urinary bladder sarcoma or 4 from 7 SNMSC developed SMN.', attributes={'Label': 'RESULTS'}), StringElement('We confirmed data from previous studies of SNs and observed some not so well known risk factors. Our results and the literature show that the incidence of SMNs is 3-10 % of survivors and is associated with high mortality.', attributes={'Label': 'CONCLUSIONS'})], 'CopyrightInformation': 'Copyright © 2020. Published by Elsevier Ltd.'}, 'AuthorList': ListElement([DictElement({'Identifier': [], 'AffiliationInfo': [{'Identifier': [], 'Affiliation': 'Departement of Pediatric Hematology and Oncology, 2(nd) Medical Faculty, Charles University and Motol University Hospital, V Uvalu 84, 150 06, Prague 5, Czech Republic.'}], 'LastName': 'Zichová', 'ForeName': 'Andrea', 'Initials': 'A'}, attributes={'ValidYN': 'Y'}), DictElement({'Identifier': [], 'AffiliationInfo': [{'Identifier': [], 'Affiliation': 'Departement of Pediatric Hematology and Oncology, 2(nd) Medical Faculty, Charles University and Motol University Hospital, V Uvalu 84, 150 06, Prague 5, Czech Republic. Electronic address: Tomas.Eckschlager@lfmotol.cuni.cz.'}], 'LastName': 'Eckschlager', 'ForeName': 'Tomáš', 'Initials': 'T'}, attributes={'ValidYN': 'Y'}), DictElement({'Identifier': [], 'AffiliationInfo': [{'Identifier': [], 'Affiliation': 'Departement of Pediatric Hematology and Oncology, 2(nd) Medical Faculty, Charles University and Motol University Hospital, V Uvalu 84, 150 06, Prague 5, Czech Republic.'}], 'LastName': 'Ganevová', 'ForeName': 'Marta', 'Initials': 'M'}, attributes={'ValidYN': 'Y'}), DictElement({'Identifier': [], 'AffiliationInfo': [{'Identifier': [], 'Affiliation': 'Departement of Oncology, 2(nd) Medical Faculty, Charles University and Motol University Hospital, V Uvalu 84, 150 06, Prague 5, Czech Republic.'}], 'LastName': 'Malinová', 'ForeName': 'Běla', 'Initials': 'B'}, attributes={'ValidYN': 'Y'}), DictElement({'Identifier': [], 'AffiliationInfo': [{'Identifier': [], 'Affiliation': 'Departement of Pediatric Hematology and Oncology, 2(nd) Medical Faculty, Charles University and Motol University Hospital, V Uvalu 84, 150 06, Prague 5, Czech Republic.'}], 'LastName': 'Lukš', 'ForeName': 'Aleš', 'Initials': 'A'}, attributes={'ValidYN': 'Y'}), DictElement({'Identifier': [], 'AffiliationInfo': [{'Identifier': [], 'Affiliation': 'Departement of Pediatric Hematology and Oncology, 2(nd) Medical Faculty, Charles University and Motol University Hospital, V Uvalu 84, 150 06, Prague 5, Czech Republic.'}], 'LastName': 'Kruseová', 'ForeName': 'Jarmila', 'Initials': 'J'}, attributes={'ValidYN': 'Y'})], attributes={'CompleteYN': 'Y'}), 'PublicationTypeList': [StringElement('Journal Article', attributes={'UI': 'D016428'}), StringElement(\"Research Support, Non-U.S. Gov't\", attributes={'UI': 'D013485'})]}, attributes={'PubModel': 'Print-Electronic'}), 'MedlineJournalInfo': {'Country': 'Netherlands', 'MedlineTA': 'Cancer Epidemiol', 'NlmUniqueID': '101508793', 'ISSNLinking': '1877-7821'}, 'MeshHeadingList': [{'QualifierName': [], 'DescriptorName': StringElement('Adolescent', attributes={'UI': 'D000293', 'MajorTopicYN': 'N'})}, {'QualifierName': [], 'DescriptorName': StringElement('Adult', attributes={'UI': 'D000328', 'MajorTopicYN': 'N'})}, {'QualifierName': [StringElement('statistics & numerical data', attributes={'UI': 'Q000706', 'MajorTopicYN': 'Y'})], 'DescriptorName': StringElement('Cancer Survivors', attributes={'UI': 'D000073116', 'MajorTopicYN': 'N'})}, {'QualifierName': [], 'DescriptorName': StringElement('Child', attributes={'UI': 'D002648', 'MajorTopicYN': 'N'})}, {'QualifierName': [], 'DescriptorName': StringElement('Cohort Studies', attributes={'UI': 'D015331', 'MajorTopicYN': 'N'})}, {'QualifierName': [StringElement('epidemiology', attributes={'UI': 'Q000453', 'MajorTopicYN': 'N'})], 'DescriptorName': StringElement('Czech Republic', attributes={'UI': 'D018153', 'MajorTopicYN': 'N', 'Type': 'Geographic'})}, {'QualifierName': [], 'DescriptorName': StringElement('Female', attributes={'UI': 'D005260', 'MajorTopicYN': 'N'})}, {'QualifierName': [], 'DescriptorName': StringElement('Humans', attributes={'UI': 'D006801', 'MajorTopicYN': 'N'})}, {'QualifierName': [], 'DescriptorName': StringElement('Incidence', attributes={'UI': 'D015994', 'MajorTopicYN': 'N'})}, {'QualifierName': [], 'DescriptorName': StringElement('Male', attributes={'UI': 'D008297', 'MajorTopicYN': 'N'})}, {'QualifierName': [StringElement('complications', attributes={'UI': 'Q000150', 'MajorTopicYN': 'Y'}), StringElement('pathology', attributes={'UI': 'Q000473', 'MajorTopicYN': 'N'}), StringElement('therapy', attributes={'UI': 'Q000628', 'MajorTopicYN': 'N'})], 'DescriptorName': StringElement('Neoplasms', attributes={'UI': 'D009369', 'MajorTopicYN': 'N'})}, {'QualifierName': [StringElement('epidemiology', attributes={'UI': 'Q000453', 'MajorTopicYN': 'Y'}), StringElement('etiology', attributes={'UI': 'Q000209', 'MajorTopicYN': 'N'}), StringElement('pathology', attributes={'UI': 'Q000473', 'MajorTopicYN': 'N'})], 'DescriptorName': StringElement('Neoplasms, Second Primary', attributes={'UI': 'D016609', 'MajorTopicYN': 'N'})}, {'QualifierName': [], 'DescriptorName': StringElement('Prognosis', attributes={'UI': 'D011379', 'MajorTopicYN': 'N'})}, {'QualifierName': [], 'DescriptorName': StringElement('Risk Factors', attributes={'UI': 'D012307', 'MajorTopicYN': 'N'})}, {'QualifierName': [], 'DescriptorName': StringElement('Survival Rate', attributes={'UI': 'D015996', 'MajorTopicYN': 'N'})}]}, attributes={'Status': 'MEDLINE', 'IndexingMethod': 'Curated', 'Owner': 'NLM'}), 'PubmedData': {'ReferenceList': [], 'History': [DictElement({'Year': '2020', 'Month': '03', 'Day': '22'}, attributes={'PubStatus': 'received'}), DictElement({'Year': '2020', 'Month': '06', 'Day': '26'}, attributes={'PubStatus': 'revised'}), DictElement({'Year': '2020', 'Month': '07', 'Day': '04'}, attributes={'PubStatus': 'accepted'}), DictElement({'Year': '2020', 'Month': '7', 'Day': '19', 'Hour': '6', 'Minute': '0'}, attributes={'PubStatus': 'pubmed'}), DictElement({'Year': '2021', 'Month': '1', 'Day': '26', 'Hour': '6', 'Minute': '0'}, attributes={'PubStatus': 'medline'}), DictElement({'Year': '2020', 'Month': '7', 'Day': '19', 'Hour': '6', 'Minute': '0'}, attributes={'PubStatus': 'entrez'})], 'PublicationStatus': 'ppublish', 'ArticleIdList': [StringElement('32682319', attributes={'IdType': 'pubmed'}), StringElement('S1877-7821(20)30113-2', attributes={'IdType': 'pii'}), StringElement('10.1016/j.canep.2020.101779', attributes={'IdType': 'doi'})]}}]}"
      ]
     },
     "execution_count": 107,
     "metadata": {},
     "output_type": "execute_result"
    }
   ],
   "source": [
    "id_list"
   ]
  },
  {
   "cell_type": "code",
   "execution_count": 100,
   "metadata": {},
   "outputs": [
    {
     "ename": "TypeError",
     "evalue": "'generator' object is not subscriptable",
     "output_type": "error",
     "traceback": [
      "\u001b[0;31m---------------------------------------------------------------------------\u001b[0m",
      "\u001b[0;31mTypeError\u001b[0m                                 Traceback (most recent call last)",
      "\u001b[0;32m<ipython-input-100-1115c65e23d8>\u001b[0m in \u001b[0;36m<module>\u001b[0;34m\u001b[0m\n\u001b[0;32m----> 1\u001b[0;31m \u001b[0mid_list\u001b[0m\u001b[0;34m[\u001b[0m\u001b[0;34m'PubmedArticle'\u001b[0m\u001b[0;34m]\u001b[0m\u001b[0;34m[\u001b[0m\u001b[0;36m1\u001b[0m\u001b[0;34m]\u001b[0m\u001b[0;34m[\u001b[0m\u001b[0;34m'MedlineCitation'\u001b[0m\u001b[0;34m]\u001b[0m\u001b[0;34m.\u001b[0m\u001b[0mkeys\u001b[0m\u001b[0;34m(\u001b[0m\u001b[0;34m)\u001b[0m\u001b[0;34m\u001b[0m\u001b[0;34m\u001b[0m\u001b[0m\n\u001b[0m",
      "\u001b[0;31mTypeError\u001b[0m: 'generator' object is not subscriptable"
     ]
    }
   ],
   "source": [
    "id_list['PubmedArticle'][1]['MedlineCitation'].keys()"
   ]
  },
  {
   "cell_type": "code",
   "execution_count": 84,
   "metadata": {},
   "outputs": [
    {
     "data": {
      "text/plain": [
       "dict_keys(['ELocationID', 'Language', 'ArticleDate', 'Journal', 'ArticleTitle', 'Pagination', 'Abstract', 'AuthorList', 'PublicationTypeList'])"
      ]
     },
     "execution_count": 84,
     "metadata": {},
     "output_type": "execute_result"
    }
   ],
   "source": [
    "id_list['PubmedArticle'][1]['MedlineCitation']['Article'].keys()"
   ]
  },
  {
   "cell_type": "code",
   "execution_count": 111,
   "metadata": {},
   "outputs": [
    {
     "data": {
      "text/plain": [
       "[StringElement('Therapeutic radiation in childhood cancer has decreased over time with a concomitant increase in chemotherapy. Limited data exist on chemotherapy-associated subsequent malignant neoplasm (SMN) risk.', attributes={'Label': 'PURPOSE'}),\n",
       " StringElement('SMNs occurring > 5 years from diagnosis, excluding nonmelanoma skin cancers, were evaluated in survivors diagnosed when they were < 21 years old, from 1970 to 1999 in the Childhood Cancer Survivor Study (median age at diagnosis, 7.0 years; median age at last follow-up, 31.8 years). Thirty-year SMN cumulative incidence and standardized incidence ratios (SIRs) were estimated by treatment: chemotherapy-only (n = 7,448), chemotherapy plus radiation (n = 10,485), radiation only (n = 2,063), or neither (n = 2,158). Multivariable models were used to assess chemotherapy-associated SMN risk, including dose-response relationships.', attributes={'Label': 'PATIENTS AND METHODS'}),\n",
       " StringElement('Of 1,498 SMNs among 1,344 survivors, 229 occurred among 206 survivors treated with chemotherapy only. Thirty-year SMN cumulative incidence was 3.9%, 9.0%, 10.8%, and 3.4% for the chemotherapy-only, chemotherapy plus radiation, radiation-only, or neither-treatment groups, respectively. Chemotherapy-only survivors had a 2.8-fold increased SMN risk compared with the general population (95% CI, 2.5 to 3.2), with SIRs increased for subsequent leukemia/lymphoma (1.9; 95% CI, 1.3 to 2.7), breast cancer (4.6; 95% CI, 3.5 to 6.0), soft-tissue sarcoma (3.4; 95% CI, 1.9 to 5.7), thyroid cancer (3.8; 95% CI, 2.7 to 5.1), and melanoma (2.3; 95% CI, 1.5 to 3.5). SMN rate was associated with > 750 mg/m<sup>2</sup> platinum (relative rate [RR] 2.7; 95% CI, 1.1 to 6.5), and a dose response was observed between alkylating agents and SMN rate (RR, 1.2/5,000 mg/m<sup>2</sup>; 95% CI, 1.1 to 1.3). A linear dose response was also demonstrated between anthracyclines and breast cancer rate (RR, 1.3/100 mg/m<sup>2</sup>; 95% CI, 1.2 to 1.6).', attributes={'Label': 'RESULTS'}),\n",
       " StringElement('Childhood cancer survivors treated with chemotherapy only, particularly higher cumulative doses of platinum and alkylating agents, face increased SMN risk. Linear dose responses were seen between alkylating agents and SMN rates and between anthracyclines and breast cancer rates. Limiting cumulative doses and consideration of alternate chemotherapies may reduce SMN risk.', attributes={'Label': 'CONCLUSION'})]"
      ]
     },
     "execution_count": 111,
     "metadata": {},
     "output_type": "execute_result"
    }
   ],
   "source": [
    "id_list['PubmedArticle'][0]['MedlineCitation']['Article']['Abstract']['AbstractText']"
   ]
  }
 ],
 "metadata": {
  "interpreter": {
   "hash": "5b572b5bda249bcb886aadd2dcd480b04dc50c8ddda2722ad0821a9022a759e5"
  },
  "kernelspec": {
   "display_name": "Python 3.9.5 64-bit ('nlp': conda)",
   "name": "python3"
  },
  "language_info": {
   "codemirror_mode": {
    "name": "ipython",
    "version": 3
   },
   "file_extension": ".py",
   "mimetype": "text/x-python",
   "name": "python",
   "nbconvert_exporter": "python",
   "pygments_lexer": "ipython3",
   "version": "3.9.5"
  },
  "orig_nbformat": 4
 },
 "nbformat": 4,
 "nbformat_minor": 2
}
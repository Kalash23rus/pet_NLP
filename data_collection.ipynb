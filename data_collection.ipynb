{
 "cells": [
  {
   "cell_type": "code",
   "execution_count": 24,
   "metadata": {},
   "outputs": [
    {
     "name": "stdout",
     "output_type": "stream",
     "text": [
      "The autoreload extension is already loaded. To reload it, use:\n",
      "  %reload_ext autoreload\n"
     ]
    }
   ],
   "source": [
    "%load_ext autoreload\n",
    "%autoreload 2\n",
    "from scripts.script import main"
   ]
  },
  {
   "cell_type": "code",
   "execution_count": 23,
   "metadata": {},
   "outputs": [
    {
     "name": "stdout",
     "output_type": "stream",
     "text": [
      "Path data//json Exist\n",
      "Path data//json/aspirin/ Exist\n"
     ]
    }
   ],
   "source": [
    "main(search_term='aspirin',path_for_saved_document='data')"
   ]
  }
 ],
 "metadata": {
  "interpreter": {
   "hash": "5b572b5bda249bcb886aadd2dcd480b04dc50c8ddda2722ad0821a9022a759e5"
  },
  "kernelspec": {
   "display_name": "Python 3.9.5 64-bit ('nlp': conda)",
   "language": "python",
   "name": "python395jvsc74a57bd05b572b5bda249bcb886aadd2dcd480b04dc50c8ddda2722ad0821a9022a759e5"
  },
  "language_info": {
   "name": "python",
   "version": ""
  },
  "orig_nbformat": 4
 },
 "nbformat": 4,
 "nbformat_minor": 2
}